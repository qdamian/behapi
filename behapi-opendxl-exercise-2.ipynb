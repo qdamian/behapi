{
 "cells": [
  {
   "cell_type": "markdown",
   "metadata": {},
   "source": [
    "# OpenDXL\n",
    "## Exercise 2\n",
    "### API producer: implement a new OpenDXL service\n",
    "\n",
    "What is already in this enviroment:\n",
    "- [OpenDXL](https://github.com/opendxl) is installed and configured.\n",
    "\n",
    "What to do:\n",
    "- Choose a unique topic and implement a basic OpenDXL service listening on that topic. When a request is received, the service should return the `feed`.\n",
    "\n",
    "For more information see:\n",
    "- [OpenDXL Basic Service Sample](https://opendxl.github.io/opendxl-client-python/pydoc/basicserviceexample.html)"
   ]
  },
  {
   "cell_type": "code",
   "execution_count": 2,
   "metadata": {},
   "outputs": [],
   "source": [
    "from dxlclient.callbacks import RequestCallback\n",
    "from dxlclient.client import DxlClient\n",
    "from dxlclient.message import Message, Request, Response\n",
    "from dxlclient.service import ServiceRegistrationInfo\n",
    "from dxlclient.client_config import DxlClientConfig\n",
    "from getpass import getuser\n",
    "import json\n",
    "\n",
    "username = getuser()\n",
    "SERVICE_TOPIC = f\"/service/{username}/feed\"\n",
    "config = DxlClientConfig.create_dxl_config_from_file('config/dxlclient.config')\n",
    "client = DxlClient(config)\n",
    "client.connect()\n",
    "\n",
    "# Implement a RequestCallback\n",
    "# Create a ServiceRegistrationInfo associating the RequestCallback to a topic\n",
    "# Use the client to register the service using the ServiceRegistrationInfo"
   ]
  },
  {
   "cell_type": "code",
   "execution_count": 3,
   "metadata": {},
   "outputs": [],
   "source": [
    "with DxlClient(config) as consumer_client:\n",
    "    consumer_client.connect()\n",
    "\n",
    "    req = Request(SERVICE_TOPIC)\n",
    "    req.payload = \"feed_name\".encode()\n",
    "    res = consumer_client.sync_request(req)\n",
    "    if res.message_type != Message.MESSAGE_TYPE_ERROR:\n",
    "        print(\"Client received response payload: \" + res.payload.decode())"
   ]
  },
  {
   "cell_type": "code",
   "execution_count": null,
   "metadata": {},
   "outputs": [],
   "source": []
  }
 ],
 "metadata": {
  "kernelspec": {
   "display_name": "Python 3",
   "language": "python",
   "name": "python3"
  },
  "language_info": {
   "codemirror_mode": {
    "name": "ipython",
    "version": 3
   },
   "file_extension": ".py",
   "mimetype": "text/x-python",
   "name": "python",
   "nbconvert_exporter": "python",
   "pygments_lexer": "ipython3",
   "version": "3.6.8"
  }
 },
 "nbformat": 4,
 "nbformat_minor": 2
}
