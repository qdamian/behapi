{
 "cells": [
  {
   "cell_type": "markdown",
   "metadata": {},
   "source": [
    "# OpenDXL\n",
    "## Exercise 2\n",
    "### Solution"
   ]
  },
  {
   "cell_type": "code",
   "execution_count": null,
   "metadata": {},
   "outputs": [],
   "source": [
    "from dxlclient.callbacks import RequestCallback\n",
    "from dxlclient.client import DxlClient\n",
    "from dxlclient.message import Message, Request, Response\n",
    "from dxlclient.service import ServiceRegistrationInfo\n",
    "from dxlclient.client_config import DxlClientConfig\n",
    "import json\n",
    "\n",
    "SERVICE_TOPIC = \"/service/user/feed\"\n",
    "feed = '[\"a\", \"b\", \"c\"]'\n",
    "config = DxlClientConfig.create_dxl_config_from_file('../config/dxlclient.config')\n",
    "client = DxlClient(config)\n",
    "client.connect()\n",
    "\n",
    "# Implement a RequestCallback\n",
    "class MyRequestCallback2(RequestCallback):\n",
    "    def on_request(self, request):\n",
    "        print(\"Service received request payload: \" + request.payload.decode())\n",
    "        res = Response(request)\n",
    "        res.payload = feed.encode()\n",
    "        client.send_response(res)\n",
    "\n",
    "# Create a ServiceRegistrationInfo associating the RequestCallback to a topic\n",
    "info = ServiceRegistrationInfo(client, \"myService\")\n",
    "info.add_topic(SERVICE_TOPIC, MyRequestCallback2())\n",
    "\n",
    "# Use the client to register the service using the ServiceRegistrationInfo\n",
    "client.register_service_sync(info, 10)"
   ]
  },
  {
   "cell_type": "code",
   "execution_count": null,
   "metadata": {},
   "outputs": [],
   "source": []
  }
 ],
 "metadata": {
  "kernelspec": {
   "display_name": "Python 3",
   "language": "python",
   "name": "python3"
  },
  "language_info": {
   "codemirror_mode": {
    "name": "ipython",
    "version": 3
   },
   "file_extension": ".py",
   "mimetype": "text/x-python",
   "name": "python",
   "nbconvert_exporter": "python",
   "pygments_lexer": "ipython3",
   "version": "3.6.8"
  }
 },
 "nbformat": 4,
 "nbformat_minor": 2
}
