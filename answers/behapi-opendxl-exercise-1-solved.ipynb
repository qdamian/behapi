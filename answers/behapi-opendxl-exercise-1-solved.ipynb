{
 "cells": [
  {
   "cell_type": "markdown",
   "metadata": {},
   "source": [
    "# OpenDXL\n",
    "## Exercise 1\n",
    "### Solution"
   ]
  },
  {
   "cell_type": "code",
   "execution_count": 4,
   "metadata": {},
   "outputs": [
    {
     "name": "stdout",
     "output_type": "stream",
     "text": [
      "Hash: afaf2cdf9981342c494b28630608f74a, ratio: 0.0\n",
      "Hash: 7657fcb7d772448a6d8504e4b20168b8, ratio: 0.9444444444444444\n",
      "Hash: 95000560239032bc68b4c2fdfcdef913, ratio: 0.0\n"
     ]
    }
   ],
   "source": [
    "from dxlclient.client import DxlClient\n",
    "from dxlclient.client_config import DxlClientConfig\n",
    "from dxlclient.message import Message, Request\n",
    "import json\n",
    "\n",
    "config = DxlClientConfig.create_dxl_config_from_file('../config/dxlclient.config')\n",
    "\n",
    "file_hashes = [\n",
    "    \"afaf2cdf9981342c494b28630608f74a\",\n",
    "    \"7657fcb7d772448a6d8504e4b20168b8\",\n",
    "    \"95000560239032bc68b4c2fdfcdef913\",\n",
    "]\n",
    "\n",
    "with DxlClient(config) as client:\n",
    "    client.connect()\n",
    "    for fhash in file_hashes:\n",
    "        topic = '/opendxl-virustotal/service/vtapi/file/report'\n",
    "        request = Request(topic)\n",
    "        request.payload = json.dumps({'resource': fhash})\n",
    "        response = client.sync_request(request)\n",
    "        if response.message_type == Message.MESSAGE_TYPE_RESPONSE:\n",
    "            report = json.loads(response.payload)\n",
    "            ratio = report.get('positives', 0) / report['total']\n",
    "            print(f'Hash: {fhash}, ratio: {ratio}')\n",
    "        else:\n",
    "            print(response.error_message)"
   ]
  },
  {
   "cell_type": "code",
   "execution_count": null,
   "metadata": {},
   "outputs": [],
   "source": []
  }
 ],
 "metadata": {
  "kernelspec": {
   "display_name": "Python 3",
   "language": "python",
   "name": "python3"
  },
  "language_info": {
   "codemirror_mode": {
    "name": "ipython",
    "version": 3
   },
   "file_extension": ".py",
   "mimetype": "text/x-python",
   "name": "python",
   "nbconvert_exporter": "python",
   "pygments_lexer": "ipython3",
   "version": "3.6.8"
  }
 },
 "nbformat": 4,
 "nbformat_minor": 2
}
