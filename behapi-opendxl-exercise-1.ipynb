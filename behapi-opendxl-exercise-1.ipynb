{
 "cells": [
  {
   "cell_type": "markdown",
   "metadata": {},
   "source": [
    "# OpenDXL\n",
    "## Exercise 1\n",
    "### API consumer: use the OpenDXL client to query an existing service\n",
    "\n",
    "What is already in this enviroment:\n",
    "- [OpenDXL](https://github.com/opendxl) is installed and configured.\n",
    "- The VirusTotal OpenDXL service is up and running. This service exposes access to the [VirusTotal](https://www.virustotal.com) API via the DXL fabric.\n",
    "\n",
    "What to do:\n",
    "- For each of the given `file_hashes`, use the OpenDXL client to query the VirusTotal OpenDXL service. Send a request to the `File Report` API and print the ratio of `positive` vs. `total` results.\n",
    "\n",
    "For more information see:\n",
    "- [Data Exchange Layer (DXL) Python SDK Documentation](https://opendxl.github.io/opendxl-client-python/pydoc/)\n",
    "- [VirusTotal API DXL Python Service Documentation](https://opendxl.github.io/opendxl-virustotal-service-python/pydoc/)\n",
    "- [VirusTotal API](https://developers.virustotal.com/reference#getting-started)"
   ]
  },
  {
   "cell_type": "code",
   "execution_count": null,
   "metadata": {},
   "outputs": [],
   "source": [
    "from dxlclient.client import DxlClient\n",
    "from dxlclient.client_config import DxlClientConfig\n",
    "\n",
    "config = DxlClientConfig.create_dxl_config_from_file('config/dxlclient.config')\n",
    "\n",
    "file_hashes = [\n",
    "    \"afaf2cdf9981342c494b28630608f74a\",\n",
    "    \"7657fcb7d772448a6d8504e4b20168b8\",\n",
    "    \"95000560239032bc68b4c2fdfcdef913\",\n",
    "]\n",
    "\n",
    "with DxlClient(config) as client:\n",
    "    client.connect()\n",
    "    print('client is connected')\n",
    "    \n",
    "    # Start here"
   ]
  },
  {
   "cell_type": "code",
   "execution_count": null,
   "metadata": {},
   "outputs": [],
   "source": []
  }
 ],
 "metadata": {
  "kernelspec": {
   "display_name": "Python 3",
   "language": "python",
   "name": "python3"
  },
  "language_info": {
   "codemirror_mode": {
    "name": "ipython",
    "version": 3
   },
   "file_extension": ".py",
   "mimetype": "text/x-python",
   "name": "python",
   "nbconvert_exporter": "python",
   "pygments_lexer": "ipython3",
   "version": "3.6.8"
  }
 },
 "nbformat": 4,
 "nbformat_minor": 2
}
